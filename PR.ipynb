{
 "cells": [
  {
   "cell_type": "code",
   "execution_count": 46,
   "metadata": {},
   "outputs": [],
   "source": [
    "from matplotlib import pyplot as plt\n",
    "import numpy as np"
   ]
  },
  {
   "cell_type": "code",
   "execution_count": 47,
   "metadata": {},
   "outputs": [],
   "source": [
    "p_vals = [1.00,1.00,0.67,0.50,0.40,0.50,0.57,0.50,0.44,0.50]\n",
    "r_vals = [0.20,0.40,0.40,0.40,0.40,0.60,0.80,0.80,0.80,1.00]"
   ]
  },
  {
   "cell_type": "code",
   "execution_count": 48,
   "metadata": {},
   "outputs": [],
   "source": [
    "def get_smoothed_p(p_vals,r_vals):\n",
    "    p_vals_smoothed = []\n",
    "    for i in range(len(r_vals)):\n",
    "        p_vals_smoothed.append(np.max(p_vals[i:]))\n",
    "\n",
    "    return p_vals_smoothed"
   ]
  },
  {
   "cell_type": "code",
   "execution_count": 49,
   "metadata": {},
   "outputs": [
    {
     "data": {
      "image/png": "[encoded data removed]",
      "text/plain": [
       "<Figure size 432x288 with 1 Axes>"
      ]
     },
     "metadata": {
      "needs_background": "light"
     },
     "output_type": "display_data"
    }
   ],
   "source": [
    "p_vals_smoothed = get_smoothed_p(p_vals,r_vals)\n",
    "\n",
    "plt.plot(r_vals,p_vals)\n",
    "plt.scatter(r_vals,p_vals)\n",
    "plt.plot(r_vals,p_vals_smoothed)\n",
    "plt.xlabel(\"recall\")\n",
    "plt.ylabel('precision')\n",
    "plt.xticks(np.arange(0,1+0.1,0.1))\n",
    "plt.yticks(np.arange(0,1+0.1,0.1))\n",
    "plt.grid()\n",
    "plt.show()"
   ]
  },
  {
   "cell_type": "code",
   "execution_count": null,
   "metadata": {},
   "outputs": [],
   "source": []
  }
 ],
 "metadata": {
  "kernelspec": {
   "display_name": "Python 3",
   "language": "python",
   "name": "python3"
  },
  "language_info": {
   "codemirror_mode": {
    "name": "ipython",
    "version": 3
   },
   "file_extension": ".py",
   "mimetype": "text/x-python",
   "name": "python",
   "nbconvert_exporter": "python",
   "pygments_lexer": "ipython3",
   "version": "3.7.3"
  }
 },
 "nbformat": 4,
 "nbformat_minor": 2
}
